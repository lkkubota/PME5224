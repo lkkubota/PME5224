{
  "nbformat": 4,
  "nbformat_minor": 0,
  "metadata": {
    "colab": {
      "name": "PME5224_fourier_series_ex1.ipynb",
      "provenance": [],
      "collapsed_sections": []
    },
    "kernelspec": {
      "name": "python3",
      "display_name": "Python 3"
    },
    "language_info": {
      "name": "python"
    }
  },
  "cells": [
    {
      "cell_type": "code",
      "metadata": {
        "id": "1d3yoNf1i5-2"
      },
      "source": [
        "from __future__ import division\n",
        "import numpy as np\n",
        "import matplotlib.pyplot as plt"
      ],
      "execution_count": null,
      "outputs": []
    },
    {
      "cell_type": "code",
      "metadata": {
        "id": "bZ30fZQ7i6ji"
      },
      "source": [
        "\n",
        "\n",
        "# \"a\" coefficient calculation.\n",
        "def a(n, min,max, accuracy = 5000):\n",
        "    a, b = min,max\n",
        "    dx = (b - a) / accuracy\n",
        "    integration = 0\n",
        "    for x in np.linspace(a, b, accuracy):\n",
        "        integration += f(x) * np.cos((n * np.pi * x) / L)\n",
        "    integration *= dx\n",
        "    return (1 / L) * integration\n",
        "\n",
        "# \"b\" coefficient calculation.\n",
        "def b(n, min,max, accuracy = 5000):\n",
        "    a, b = min,max\n",
        "    dx = (b - a) / accuracy\n",
        "    integration = 0\n",
        "    for x in np.linspace(a, b, accuracy):\n",
        "        integration += f(x) * np.sin((n * np.pi * x) / L)\n",
        "    integration *= dx\n",
        "    return (1 / L) * integration\n",
        "\n",
        "# Fourier series.   \n",
        "def Sf(x, min,max,n = 10):\n",
        "    a0 = a(0, min,max)\n",
        "    sum = np.zeros(np.size(x))\n",
        "    for i in np.arange(1, n + 1):\n",
        "        sum += ((a(i, min,max) * np.cos((i * np.pi * x) / L)) + (b(i, min,max) * np.sin((i * np.pi * x) / L)))\n",
        "    return (a0 / 2) + sum   \n",
        "\n",
        "#\"f(x)\" function definition.\n",
        "def f(x):\n",
        "\n",
        "  if x>=0 and x<1:\n",
        "    y=0\n",
        "  elif x>=1 and x<2:\n",
        "    y=x-1\n",
        "  elif x>=2 and x<=3:\n",
        "    y=-x+4\n",
        "  return y \n"
      ],
      "execution_count": null,
      "outputs": []
    },
    {
      "cell_type": "code",
      "metadata": {
        "id": "-1Z8mZtMjBuR"
      },
      "source": [
        "# Define \"x\" range\n",
        "x = np.linspace(0, 3, 5000)\n",
        "y=[]\n",
        "for xx in x:\n",
        "  y.append(f(xx))\n",
        "y=np.array(y)  \n",
        "\n",
        "# Define \"T\", i.e functions' period.\n",
        "T = 3\n",
        "L = (T / 2)\n",
        "\n",
        "# Define # harmonics\n",
        "harmonics=3 "
      ],
      "execution_count": null,
      "outputs": []
    },
    {
      "cell_type": "code",
      "metadata": {
        "colab": {
          "base_uri": "https://localhost:8080/",
          "height": 281
        },
        "id": "AbANnM32jDwR",
        "outputId": "9d389495-9d72-45d9-c089-0548f12cb7ad"
      },
      "source": [
        "# Original signal.\n",
        "plt.plot(x, y, linewidth = 1.5, label = 'Signal')\n",
        "\n",
        "# Approximation signal (Fourier series coefficients).\n",
        "plt.plot(x, Sf(x, 0.0,3.0,harmonics), '.', color = 'red', linewidth = 1.5, label = 'Fourier series')\n",
        "plt.title(f\"Fourier Series approximation with {harmonics} harmonics\")\n",
        "\n",
        "# Specify x and y axes limits.\n",
        "plt.xlim([x.min(), x.max()])\n",
        "#plt.ylim([y.min(), 1.2*y.max()])\n",
        "plt.legend(loc = 'upper right', fontsize = '10')\n",
        "plt.savefig(\"ex1.png\",dpi=500)"
      ],
      "execution_count": null,
      "outputs": [
        {
          "output_type": "display_data",
          "data": {
            "image/png": "[encoded data removed]",
            "text/plain": [
              "<Figure size 432x288 with 1 Axes>"
            ]
          },
          "metadata": {
            "tags": [],
            "needs_background": "light"
          }
        }
      ]
    },
    {
      "cell_type": "code",
      "metadata": {
        "colab": {
          "base_uri": "https://localhost:8080/"
        },
        "id": "wRdcH4fMmkOB",
        "outputId": "c0637617-44b0-467a-b902-c9ebd703272c"
      },
      "source": [
        "n=harmonics\n",
        "print(\"##################################\")\n",
        "for i in range(n+1):\n",
        "  an=a(i,0,3.0)\n",
        "  bn=b(i,0,3.0)\n",
        "  print(f\"harmonic {i}: a={np.round(an,3)} and b={np.round(bn,3)}\")\n",
        "print(\"##################################\")\n",
        "\n",
        "for i in range(n+1):\n",
        "  an=a(i,0,3.0)\n",
        "  bn=b(i,0,3.0)\n",
        "  if i==0:\n",
        "    print(f\"average power harmonic {i}={np.round((an/2)**2,3)}\")\n",
        "  else:\n",
        "    print(f\"average power harmonic {i}={np.round(((an)**2+(bn)**2)/2,3)}\")      \n",
        "print(\"##################################\")"
      ],
      "execution_count": null,
      "outputs": [
        {
          "output_type": "stream",
          "text": [
            "##################################\n",
            "harmonic 0: a=1.333 and b=0.0\n",
            "harmonic 1: a=0.048 and b=-0.872\n",
            "harmonic 2: a=-0.195 and b=-0.14\n",
            "harmonic 3: a=0.0 and b=0.0\n",
            "##################################\n",
            "average power harmonic 0=0.444\n",
            "average power harmonic 1=0.382\n",
            "average power harmonic 2=0.029\n",
            "average power harmonic 3=0.0\n",
            "##################################\n"
          ],
          "name": "stdout"
        }
      ]
    }
  ]
}